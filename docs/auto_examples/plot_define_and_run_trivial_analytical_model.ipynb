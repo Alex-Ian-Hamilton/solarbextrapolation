{
  "nbformat_minor": 0, 
  "nbformat": 4, 
  "cells": [
    {
      "execution_count": null, 
      "cell_type": "code", 
      "source": [
        "%matplotlib inline"
      ], 
      "outputs": [], 
      "metadata": {
        "collapsed": false
      }
    }, 
    {
      "source": [
        "\n# Defining and Run a Custom Analytical Model\n\n\nHere you will be creating trivial analytical model following the API.\n\n"
      ], 
      "cell_type": "markdown", 
      "metadata": {}
    }, 
    {
      "source": [
        "You can start by importing the necessary module components.\n"
      ], 
      "cell_type": "markdown", 
      "metadata": {}
    }, 
    {
      "execution_count": null, 
      "cell_type": "code", 
      "source": [
        "# Module imports\nfrom solarbextrapolation.map3dclasses import Map3D\nfrom solarbextrapolation.analyticalmodels import AnalyticalModel\nfrom solarbextrapolation.visualisation_functions import visualise"
      ], 
      "outputs": [], 
      "metadata": {
        "collapsed": false
      }
    }, 
    {
      "source": [
        "You also need the ability to convert astropyunits, manipulate numpy arrays\nand use MayaVi for visualisation.\n"
      ], 
      "cell_type": "markdown", 
      "metadata": {}
    }, 
    {
      "execution_count": null, 
      "cell_type": "code", 
      "source": [
        "# General imports\nimport astropy.units as u\nimport numpy as np\nfrom mayavi import mlab"
      ], 
      "outputs": [], 
      "metadata": {
        "collapsed": false
      }
    }, 
    {
      "source": [
        "You are going to try and define a 3D cuboid grid of 20x22x20 with ranges in\narcseconds, these parameters can be stored in the following lists and astropy\nquantities.\n"
      ], 
      "cell_type": "markdown", 
      "metadata": {}
    }, 
    {
      "execution_count": null, 
      "cell_type": "code", 
      "source": [
        "# Input parameters:\nqua_shape   = u.Quantity([   20,   20,  20] * u.pixel)\nqua_x_range = u.Quantity([ -80.0,  80 ] * u.Mm)\nqua_y_range = u.Quantity([ -80.0,  80 ] * u.Mm)\nqua_z_range = u.Quantity([   0.0, 120 ] * u.Mm)"
      ], 
      "outputs": [], 
      "metadata": {
        "collapsed": false
      }
    }, 
    {
      "source": [
        "From the above parameters you can derive the grid step size and total size in\neach dimension.\n"
      ], 
      "cell_type": "markdown", 
      "metadata": {}
    }, 
    {
      "execution_count": null, 
      "cell_type": "code", 
      "source": [
        "\"\"\"\n# Derived parameters (make SI where applicable)\nx_0 = x_range[0].to(u.m).value\nDx = (( x_range[1] - x_range[0] ) / ( tup_shape[0] * 1.0 )).to(u.m).value\nx_size = Dx * tup_shape[0]\ny_0 = y_range[0].to(u.m).value\nDy = (( y_range[1] - y_range[0] ) / ( tup_shape[1] * 1.0 )).to(u.m).value\ny_size = Dy * tup_shape[1]\nz_0 = z_range[0].to(u.m).value\nDz = (( z_range[1] - z_range[0] ) / ( tup_shape[2] * 1.0 )).to(u.m).value\nz_size = Dy * tup_shape[2]\n\"\"\""
      ], 
      "outputs": [], 
      "metadata": {
        "collapsed": false
      }
    }, 
    {
      "source": [
        "You can define this analytical model as a child of the AnalyticalModel class.\n"
      ], 
      "cell_type": "markdown", 
      "metadata": {}
    }, 
    {
      "execution_count": null, 
      "cell_type": "code", 
      "source": [
        "class AnaOnes(AnalyticalModel):\n    def __init__(self, **kwargs):\n        super(AnaOnes, self).__init__(**kwargs)\n\n    def _generate_field(self, **kwargs):\n        # Adding in custom parameters to the metadata\n        self.meta['analytical_model_routine'] = 'Ones Model'\n\n        # Generate a trivial field and return (X,Y,Z,Vec)\n        arr_4d = np.ones(self.shape.value.tolist() + [3])\n        self.field = arr_4d\n\n        # Extract the LoS Magnetogram from this:\n        self.magnetogram.data = arr_4d[:,:,0,2]\n\n        # Now return the vector field.\n        return Map3D( arr_4d, self.meta )"
      ], 
      "outputs": [], 
      "metadata": {
        "collapsed": false
      }
    }, 
    {
      "source": [
        "You can instansiate a copy of the new  analytical model.\n"
      ], 
      "cell_type": "markdown", 
      "metadata": {}
    }, 
    {
      "execution_count": null, 
      "cell_type": "code", 
      "source": [
        "aAnaMod = AnaOnes(shape=qua_shape, xrange=qua_x_range, yrange=qua_y_range, zrange=qua_z_range)"
      ], 
      "outputs": [], 
      "metadata": {
        "collapsed": false
      }
    }, 
    {
      "source": [
        "Note: you could use default ranges and grid shape using aAnaMod = AnaOnes().\n"
      ], 
      "cell_type": "markdown", 
      "metadata": {}
    }, 
    {
      "source": [
        "You can now calculate the vector field.\n"
      ], 
      "cell_type": "markdown", 
      "metadata": {}
    }, 
    {
      "execution_count": null, 
      "cell_type": "code", 
      "source": [
        "aMap3D = aAnaMod.generate()"
      ], 
      "outputs": [], 
      "metadata": {
        "collapsed": false
      }
    }, 
    {
      "source": [
        "You can now see the 2D boundary data used for extrapolation.\n"
      ], 
      "cell_type": "markdown", 
      "metadata": {}
    }, 
    {
      "execution_count": null, 
      "cell_type": "code", 
      "source": [
        "aMap2D = aAnaMod.to_los_magnetogram()\naMap2D.peek()"
      ], 
      "outputs": [], 
      "metadata": {
        "collapsed": false
      }
    }, 
    {
      "source": [
        "You also visulise the 3D vector field:\n"
      ], 
      "cell_type": "markdown", 
      "metadata": {}
    }, 
    {
      "execution_count": null, 
      "cell_type": "code", 
      "source": [
        "fig = visualise(aMap3D,\n                show_boundary_axes=False,\n                show_volume_axes=False,\n                debug=False)\nmlab.show()\n\n# Note: you can add boundary axes using:\n\"\"\"\nfig = visualise(aMap3D,\n                show_boundary_axes=False,\n                boundary_units=[1.0*u.arcsec, 1.0*u.arcsec],\n                show_volume_axes=True,\n                debug=False)\n\"\"\""
      ], 
      "outputs": [], 
      "metadata": {
        "collapsed": false
      }
    }
  ], 
  "metadata": {
    "kernelspec": {
      "display_name": "Python 2", 
      "name": "python2", 
      "language": "python"
    }, 
    "language_info": {
      "mimetype": "text/x-python", 
      "nbconvert_exporter": "python", 
      "name": "python", 
      "file_extension": ".py", 
      "version": "2.7.11", 
      "pygments_lexer": "ipython2", 
      "codemirror_mode": {
        "version": 2, 
        "name": "ipython"
      }
    }
  }
}