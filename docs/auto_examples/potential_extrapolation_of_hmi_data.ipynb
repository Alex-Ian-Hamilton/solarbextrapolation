{
  "nbformat_minor": 0, 
  "nbformat": 4, 
  "cells": [
    {
      "execution_count": null, 
      "cell_type": "code", 
      "source": [
        "%matplotlib inline"
      ], 
      "outputs": [], 
      "metadata": {
        "collapsed": false
      }
    }, 
    {
      "source": [
        "\n# Extrapolating HMI Data\n\n\nExample of downloading boundary data from VSO, extrapolating using the potential\nextrapolator and visualising.\n"
      ], 
      "cell_type": "markdown", 
      "metadata": {}
    }, 
    {
      "execution_count": null, 
      "cell_type": "code", 
      "source": [
        "from __future__ import print_function\n# General imports\nimport numpy as np\nimport sunpy.map as mp\nfrom sunpy.net import vso\nfrom astropy import units as u\nfrom mayavi import mlab\nimport os\n\n# Module imports\nfrom solarbextrapolation.map3dclasses import Map3D\nfrom solarbextrapolation.extrapolators import PotentialExtrapolator\nfrom solarbextrapolation.visualisation_functions import visualise\n\n# Download the HMI data from VSO\n\n# create a new VSOClient instance\nclient = vso.VSOClient()\n\n# build our query, this can return one item, or a list of them to DL (matching the filters).\nresult_hmi = client.query(\n    # The following are filters for what data I want.\n    vso.attrs.Time(\n        (2011, 2, 14, 20, 34, 0), (2011, 2, 14, 21, 0, 0)),  # Time range.\n    vso.attrs.Instrument('HMI'),  # Helioseismic and Magnetic Imager.\n    vso.attrs.Physobs('LOS_magnetic_field'),  # Physical observables\n    vso.attrs.Sample(4000 * u.s)  # Only take a shot every $var seconds.\n    # More observables at http://sdac.virtualsolar.org/cgi/show_details?keyword=PHYSOBS\n)\n\nresult_aia = client.query(\n    # The following are filters for what data I want.\n    vso.attrs.Time(\n        (2011, 2, 14, 20, 34, 0), (2011, 2, 14, 21, 0, 0)),  # Time range.\n    vso.attrs.Instrument('AIA'),  # Helioseismic and Magnetic Imager.\n    vso.attrs.Physobs('intensity'),  # Physical observables\n    vso.attrs.Sample(4000 * u.s)  # Only take a shot every $var seconds.\n    # More observables at http://sdac.virtualsolar.org/cgi/show_details?keyword=PHYSOBS\n)\n\n# Save the HMI and AIA data to a fits files.\ndata_hmi = client.get(result_hmi, methods=('URL-FILE_Rice', 'URL-FILE')).wait()\ndata_aia = client.get(result_aia, methods=('URL-FILE_Rice', 'URL-FILE')).wait()\nprint('\\n' + str(data_hmi))\nprint(str(data_aia) + '\\n')\n\n# Cropping into the active region within the HMI map\nstr_vol_filepath = data_hmi[0][0:-5] + '_Bxyz.npy'\nxrange = u.Quantity([50, 300] * u.arcsec)\nyrange = u.Quantity([-350, -100] * u.arcsec)\nzrange = u.Quantity([0, 250] * u.arcsec)\nxrangeextended = u.Quantity([xrange.value[0] - 50, xrange.value[1] + 50] *\n                            xrange.unit)\nyrangeextended = u.Quantity([yrange.value[0] - 50, yrange.value[1] + 50] *\n                            yrange.unit)\n\n# Open the map and create a cropped version for the extrapolation.\nmap_hmi = mp.Map(data_hmi[0])\nmap_hmi_cropped = map_hmi.submap(xrange, yrange)\ndimensions = u.Quantity([20, 20] * u.pixel)\nmap_hmi_cropped_resampled = map_hmi_cropped.resample(dimensions,\n                                                     method='linear')\n\n# Open the map and create a cropped version for the visualisation.\nmap_boundary = mp.Map(data_hmi[0])\n\nmap_boundary_cropped = map_boundary.submap(xrangeextended, yrangeextended)\n\naPotExt = PotentialExtrapolator(map_hmi_cropped_resampled,\n                                filepath=str_vol_filepath,\n                                zshape=20,\n                                zrange=zrange)\naMap3D = aPotExt.extrapolate()\naPotExt = PotentialExtrapolator(map_hmi_cropped_resampled,\n                                filepath=str_vol_filepath,\n                                zshape=20,\n                                zrange=zrange)\nprint('\\nextrapolation duration: ' + str(np.round(aMap3D.meta[\n    'extrapolator_duration'], 3)) + ' s\\n')\n\n# Visualise this\nvisualise(aMap3D,\n          boundary=map_boundary_cropped,\n          scale=1.0 * u.Mm,\n          boundary_unit=1.0 * u.arcsec,\n          show_boundary_axes=False,\n          show_volume_axes=True,\n          debug=False)\nmlab.show()"
      ], 
      "outputs": [], 
      "metadata": {
        "collapsed": false
      }
    }
  ], 
  "metadata": {
    "kernelspec": {
      "display_name": "Python 2", 
      "name": "python2", 
      "language": "python"
    }, 
    "language_info": {
      "mimetype": "text/x-python", 
      "nbconvert_exporter": "python", 
      "name": "python", 
      "file_extension": ".py", 
      "version": "2.7.11", 
      "pygments_lexer": "ipython2", 
      "codemirror_mode": {
        "version": 2, 
        "name": "ipython"
      }
    }
  }
}