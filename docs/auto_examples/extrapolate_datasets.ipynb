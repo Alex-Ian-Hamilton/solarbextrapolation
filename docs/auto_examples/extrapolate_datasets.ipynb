{
  "nbformat_minor": 0, 
  "nbformat": 4, 
  "cells": [
    {
      "execution_count": null, 
      "cell_type": "code", 
      "source": [
        "%matplotlib inline"
      ], 
      "outputs": [], 
      "metadata": {
        "collapsed": false
      }
    }, 
    {
      "source": [
        "\n# Extrapolation Example\n\n\nThis is a full example\n\n"
      ], 
      "cell_type": "markdown", 
      "metadata": {}
    }, 
    {
      "execution_count": null, 
      "cell_type": "code", 
      "source": [
        "import matplotlib\nmatplotlib.use('Agg')\n\nimport numpy as np\nimport sunpy.map as mp\nfrom astropy import units as u\nfrom mayavi import mlab\n\n# Module Imports\nfrom solarbextrapolation.classes import *\nfrom solarbextrapolation.potential_field_extrapolator import *\nfrom solarbextrapolation.utilities import *\nfrom solarbextrapolation.example_data_generator import *\nfrom solarbextrapolation.visualisation_functions import *\n\n# 2015\nstr_folder = \"C://fits//\"\nstr_map_filepath = str_folder + \"2015-01-04__19-41-12__02_aia.fits\"\nstr_map_filepath = str_folder + \"2015-01-04__19-41-12__01_hmi.fits\"\nstr_vol_filepath = str_folder + \"2015-01-04__19-41-12__03_Bxyz.npy\"\nstr_ext_filepath = str_folder + \"2015-01-04__19-41-12__04_extrapolator.ext\"\nlis_cropping = [[-200, 200], [-250, 150], [0, 400], 'data']\nxrange = u.Quantity([-200, 200] * u.arcsec)\nyrange = u.Quantity([-250, 150] * u.arcsec)\nzrange = u.Quantity([0, 400] * u.arcsec)\n\n# 2014\nstr_map_filepath = str_folder + \"2014-01-06__07-28-36__02_aia.fits\"\nstr_map_filepath = str_folder + \"2014-01-06__07-28-36__01_hmi.fits\"\nstr_vol_filepath = str_folder + \"2014-01-06__07-28-36__03_Bxyz.npy\"\nstr_ext_filepath = str_folder + \"2014-01-06__07-28-36__04_extrapolator.ext\"\nlis_cropping = [[-550, -200], [-245, 105], [0, 300], 'data']\nxrange = u.Quantity([-550, -200] * u.arcsec)\nyrange = u.Quantity([-245, 105] * u.arcsec)\nzrange = u.Quantity([0, 300] * u.arcsec)\n\n# 2011\nstr_map_filepath = str_folder + \"2011-02-14__20-35-25__02_aia\"\nstr_map_filepath = str_folder + \"2011-02-14__20-35-25__01_hmi.fits\"\nstr_vol_filepath = str_folder + \"2011-02-14__20-35-25__03_Bxyz.npy\"\nstr_ext_filepath = str_folder + \"2011-02-14__20-35-25__04_extrapolator.ext\"\nlis_cropping = [[50, 300], [-350, -100], [0, 250], 'data']\nxrange = u.Quantity([50, 300] * u.arcsec)\nyrange = u.Quantity([-350, -100] * u.arcsec)\nzrange = u.Quantity([0, 250] * u.arcsec)\n\n# Open the map and create a cropped version for the visualisation.\naMap2D = mp.Map(str_map_filepath)\n#aMap2D_cropped = aMap2D.submap(lis_cropping[0] * u.arcsec, lis_cropping[1] * u.arcsec)\naMap2D_cropped = aMap2D.submap(xrange, yrange)\ndimensions = u.Quantity([30, 30] * u.pixel)\naMap2D_cropped_resampled = aMap2D_cropped.resample(dimensions, method='linear')\naMap2D_visulisation = aMap2D.submap(\n    [lis_cropping[0][0] - 50, lis_cropping[0][1] + 50] * u.arcsec,\n    [lis_cropping[1][0] - 50, lis_cropping[1][1] + 50] * u.arcsec)\n\n# Only extrapolate if we don't have a saved version\nif not os.path.isfile(str_vol_filepath):\n    aPotExt = PotentialExtrapolator(aMap2D_cropped_resampled,\n                                    filepath=str_vol_filepath,\n                                    zshape=30,\n                                    zrange=zrange)\n    aMap3D = aPotExt.extrapolate()\naMap3D = Map3D.load(str_vol_filepath)\n\n# Visualise this\nvisualise(aMap3D,\n          boundary=aMap2D_visulisation,\n          scale=1.0 * u.Mm,\n          boundary_unit=1.0 * u.arcsec,\n          show_boundary_axes=False,\n          show_volume_axes=True,\n          debug=False)\nmlab.show()"
      ], 
      "outputs": [], 
      "metadata": {
        "collapsed": false
      }
    }
  ], 
  "metadata": {
    "kernelspec": {
      "display_name": "Python 2", 
      "name": "python2", 
      "language": "python"
    }, 
    "language_info": {
      "mimetype": "text/x-python", 
      "nbconvert_exporter": "python", 
      "name": "python", 
      "file_extension": ".py", 
      "version": "2.7.11", 
      "pygments_lexer": "ipython2", 
      "codemirror_mode": {
        "version": 2, 
        "name": "ipython"
      }
    }
  }
}