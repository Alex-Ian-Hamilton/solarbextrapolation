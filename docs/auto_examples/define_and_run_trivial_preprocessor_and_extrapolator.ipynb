{
  "nbformat_minor": 0, 
  "nbformat": 4, 
  "cells": [
    {
      "execution_count": null, 
      "cell_type": "code", 
      "source": [
        "%matplotlib inline"
      ], 
      "outputs": [], 
      "metadata": {
        "collapsed": false
      }
    }, 
    {
      "source": [
        "\n# Defining a Custom Preprocessor and Extrapolator\n\n\nHere you will be creating trivial preprocessor and and exztrqapolatoirs\nfollowing the API.\n\n"
      ], 
      "cell_type": "markdown", 
      "metadata": {}
    }, 
    {
      "source": [
        "Testing a preprocessor\n"
      ], 
      "cell_type": "markdown", 
      "metadata": {}
    }, 
    {
      "execution_count": null, 
      "cell_type": "code", 
      "source": [
        "# Define a trivial preprocessor\nclass PreZeros(Preprocessors):\n    def __init__(self, map_magnetogram):\n        super(PreZeros, self).__init__(map_magnetogram)\n\n    def _preprocessor(self):\n        # Adding in custom parameters to the meta\n        self.meta['preprocessor_routine'] = 'Zeros Preprocessor'\n\n        # Creating the trivial zeros map of the same shape as the input map\n        map_output = sunpy.map.Map((np.zeros(self.map_input.data.shape),\n                                    self.meta))\n\n        # Outputting the map.\n        return map_output\n\n# Generate the boundary\naMap2D = sunpy.map.Map(\n    'C://git//solarextrapolation//solarextrapolation//data//example_data_(100x100)__01_hmi.fits')\naPrePro = PreZeros(aMap2D.submap([0, 10], [0, 10]))\naPreProData = aPrePro.preprocess()\n\n# aPreProData = aMap2D.submap([0,10], [0,10])\n\n# Some checks:\n#aPreProData.data # Should be a 2D zeros array.\n#aPreProData.meta\n#aPreProData.meta['preprocessor_routine']\n#aPreProData.meta['preprocessor_start_time']"
      ], 
      "outputs": [], 
      "metadata": {
        "collapsed": false
      }
    }, 
    {
      "source": [
        "Testing an extrapolator\n"
      ], 
      "cell_type": "markdown", 
      "metadata": {}
    }, 
    {
      "execution_count": null, 
      "cell_type": "code", 
      "source": [
        "# Define trivial extrapolator\nclass ExtZeros(Extrapolators):\n    def __init__(self, map_magnetogram, **kwargs):\n        super(ExtZeros, self).__init__(map_magnetogram, **kwargs)\n\n    def _extrapolation(self):\n        # Adding in custom parameters to the meta\n        self.meta['extrapolator_routine'] = 'Zeros Extrapolator'\n\n        arr_4d = np.zeros([self.map_boundary_data.data.shape[0],\n                           self.map_boundary_data.data.shape[0], self.z, 3])\n        return Map3D((arr_4d, self.meta))\n\n\naExt = ExtZeros(\n    aPreProData,\n    filepath='C://Users/Alex/solarextrapolation/solarextrapolation/3Dmap.m3d')\naMap3D = aExt.extrapolate()\n\n# Some checks:\n#aMap3D.data # Should be a 4D zeros array.\n#aMap3D.meta\n#aMap3D.meta['extrapolator_routine']\n#aMap3D.meta['extrapolator_start_time']\n\n# Testing a Map3DCube\n\naMapCube = Map3DCube(aMap3D, aMap3D)\naMapCube[0]\naMapCube[0].data\naMapCube[0].meta\naMapCube[1].data\naMapCube[1].meta"
      ], 
      "outputs": [], 
      "metadata": {
        "collapsed": false
      }
    }
  ], 
  "metadata": {
    "kernelspec": {
      "display_name": "Python 2", 
      "name": "python2", 
      "language": "python"
    }, 
    "language_info": {
      "mimetype": "text/x-python", 
      "nbconvert_exporter": "python", 
      "name": "python", 
      "file_extension": ".py", 
      "version": "2.7.11", 
      "pygments_lexer": "ipython2", 
      "codemirror_mode": {
        "version": 2, 
        "name": "ipython"
      }
    }
  }
}