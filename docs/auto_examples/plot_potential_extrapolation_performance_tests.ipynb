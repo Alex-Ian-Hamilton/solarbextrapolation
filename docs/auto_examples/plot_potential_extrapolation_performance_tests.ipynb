{
  "nbformat_minor": 0, 
  "nbformat": 4, 
  "cells": [
    {
      "execution_count": null, 
      "cell_type": "code", 
      "source": [
        "%matplotlib inline"
      ], 
      "outputs": [], 
      "metadata": {
        "collapsed": false
      }
    }, 
    {
      "source": [
        "\n# Extrapolator Perfomance Testing\n\n\nIn this example you will be running the potential field extrapolator both with\nnumba enabled and disabled over a number of datasets and tabulating the results\ninto an astropy table.\n\nNote: if you don't have conda numba installed the code should work but the\nresults should not show any speed difference.\n"
      ], 
      "cell_type": "markdown", 
      "metadata": {}
    }, 
    {
      "source": [
        "You can start by importing the necessary module components.\n"
      ], 
      "cell_type": "markdown", 
      "metadata": {}
    }, 
    {
      "execution_count": null, 
      "cell_type": "code", 
      "source": [
        "# Module imports\nfrom solarbextrapolation.extrapolators import PotentialExtrapolator\nfrom solarbextrapolation.example_data_generator import generate_example_data, dummyDataToMap"
      ], 
      "outputs": [], 
      "metadata": {
        "collapsed": false
      }
    }, 
    {
      "source": [
        "You also need the ability to convert astropyunits, use numpy arrays and\nastropy tables.\n"
      ], 
      "cell_type": "markdown", 
      "metadata": {}
    }, 
    {
      "execution_count": null, 
      "cell_type": "code", 
      "source": [
        "# General imports\nfrom astropy import units as u\nfrom astropy.table import Table\nimport numpy as np"
      ], 
      "outputs": [], 
      "metadata": {
        "collapsed": false
      }
    }, 
    {
      "source": [
        "You are going to create a series of volume grids with a given shape and then\nattribute arbitrary units to it's axes.\n"
      ], 
      "cell_type": "markdown", 
      "metadata": {}
    }, 
    {
      "execution_count": null, 
      "cell_type": "code", 
      "source": [
        "lis_grid_shapes = [ [ 50, 50, 50 ] ]\nxrange = u.Quantity([ -10.0, 10.0 ] * u.arcsec)\nyrange = u.Quantity([ -10.0, 10.0 ] * u.arcsec)\nzrange = u.Quantity([ 0,     20.0 ] * u.arcsec)"
      ], 
      "outputs": [], 
      "metadata": {
        "collapsed": false
      }
    }, 
    {
      "source": [
        "Note that you could easily choose any grid dimensions:\n e.g. [ [ 100, 100, 200 ] ]\nor add more then one grid shape in the list:\n e.g. [ [ 10, 10, 10 ],[ 50, 50, 50 ], [ 100, 100, 100 ] ]\nto make the test more grid-size agnostic, but this will notably increase\nruntime.\n"
      ], 
      "cell_type": "markdown", 
      "metadata": {}
    }, 
    {
      "source": [
        "You will create an example dataset using Gaussian spots, as show in the\nGenerating Example Data example. We use the parameters:\n"
      ], 
      "cell_type": "markdown", 
      "metadata": {}
    }, 
    {
      "execution_count": null, 
      "cell_type": "code", 
      "source": [
        "# Manual Pole Details\narrA0 = [ u.Quantity([ 25, 25 ] * u.percent), 10.0 * u.percent,  0.2 * u.T ]\narrA1 = [ u.Quantity([ 75, 75 ] * u.percent), 10.0 * u.percent, -0.2 * u.T ]\narrA2 = [ u.Quantity([ 25, 75 ] * u.percent), 10.0 * u.percent,  0.1 * u.T ]\narrA3 = [ u.Quantity([ 75, 25 ] * u.percent), 10.0 * u.percent, -0.1 * u.T ]\n\n# Generate the datasets and maps\n#lis_maps = []\n#lis_extrapolators = []"
      ], 
      "outputs": [], 
      "metadata": {
        "collapsed": false
      }
    }, 
    {
      "source": [
        "You will create an astropy table to store the runtimes of the extrapolations.\n"
      ], 
      "cell_type": "markdown", 
      "metadata": {}
    }, 
    {
      "execution_count": null, 
      "cell_type": "code", 
      "source": [
        "# A table for storing the data\nt = Table(names=('grid size', 'time (min)', 'time (ave)', 'time (std)'), meta={'name': 'times tables'}, dtype=('S24', 'f8', 'f8', 'f8'))\nt['time (min)'].unit = u.s\nt['time (ave)'].unit = u.s\nt['time (std)'].unit = u.s"
      ], 
      "outputs": [], 
      "metadata": {
        "collapsed": false
      }
    }, 
    {
      "source": [
        "You will store all the datasets to test with in a list.\nIn this case the datasets will simply be the various generated example\nboundary data maps for the list of grid sizes, which is simply one example.\n"
      ], 
      "cell_type": "markdown", 
      "metadata": {}
    }, 
    {
      "execution_count": null, 
      "cell_type": "code", 
      "source": [
        "lis_datasets = []\nfor shape in lis_grid_shapes:\n    lis_datasets.append([ str(shape), shape[2], zrange,\n                          dummyDataToMap(generate_example_data(shape[0:2], xrange, yrange, arrA0, arrA1, arrA2, arrA3), xrange, yrange) ])"
      ], 
      "outputs": [], 
      "metadata": {
        "collapsed": false
      }
    }, 
    {
      "source": [
        "You may wish to run each test more than once, so you can use a parameter to\nautimate this.\n"
      ], 
      "cell_type": "markdown", 
      "metadata": {}
    }, 
    {
      "execution_count": null, 
      "cell_type": "code", 
      "source": [
        "int_trials = 1 # The times to repeat each extrapolation."
      ], 
      "outputs": [], 
      "metadata": {
        "collapsed": false
      }
    }, 
    {
      "source": [
        "You iterate through the extrapolations on each dataset, adding teh runtime to\nthe table.\n"
      ], 
      "cell_type": "markdown", 
      "metadata": {}
    }, 
    {
      "execution_count": null, 
      "cell_type": "code", 
      "source": [
        "for extrapolation in lis_datasets:\n    # Setup the extrapolator and table\n    aPotExt = PotentialExtrapolator(extrapolation[3], zshape=extrapolation[1], zrange=extrapolation[2])\n\n    # List to store the trial\n    lis_times = []\n\n    # Run the extrapolation without numba for each dataset (map and ranges).\n    for i in range(0, int_trials):\n        aMap3D = aPotExt.extrapolate(enable_numba=False)\n        lis_times.append(aMap3D.meta['extrapolator_duration'])\n    t.add_row([extrapolation[0], np.round(np.min(lis_times), 2), np.round(np.average(lis_times), 2), np.round(np.std(lis_times), 2)])\n\n    # List to store the trial\n    lis_times = []\n\n    # Run the extrapolation with numba for each dataset (map and ranges).\n    for i in range(0, int_trials):\n        aMap3D = aPotExt.extrapolate(enable_numba=True)\n        lis_times.append(aMap3D.meta['extrapolator_duration'])\n    t.add_row(['(numba)'+extrapolation[0], np.round(np.min(lis_times), 2), np.round(np.average(lis_times), 2), np.round(np.std(lis_times), 2)])"
      ], 
      "outputs": [], 
      "metadata": {
        "collapsed": false
      }
    }, 
    {
      "source": [
        "You can now see the results in the table.\n"
      ], 
      "cell_type": "markdown", 
      "metadata": {}
    }, 
    {
      "execution_count": null, 
      "cell_type": "code", 
      "source": [
        "print t"
      ], 
      "outputs": [], 
      "metadata": {
        "collapsed": false
      }
    }
  ], 
  "metadata": {
    "kernelspec": {
      "display_name": "Python 2", 
      "name": "python2", 
      "language": "python"
    }, 
    "language_info": {
      "mimetype": "text/x-python", 
      "nbconvert_exporter": "python", 
      "name": "python", 
      "file_extension": ".py", 
      "version": "2.7.11", 
      "pygments_lexer": "ipython2", 
      "codemirror_mode": {
        "version": 2, 
        "name": "ipython"
      }
    }
  }
}