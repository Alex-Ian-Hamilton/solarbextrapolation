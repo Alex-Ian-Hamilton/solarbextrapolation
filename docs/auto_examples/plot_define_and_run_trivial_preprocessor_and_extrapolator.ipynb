{
  "nbformat_minor": 0, 
  "nbformat": 4, 
  "cells": [
    {
      "execution_count": null, 
      "cell_type": "code", 
      "source": [
        "%matplotlib inline"
      ], 
      "outputs": [], 
      "metadata": {
        "collapsed": false
      }
    }, 
    {
      "source": [
        "\n# Defining a Custom Preprocessor and Extrapolator\n\n\nHere you will be creating trivial preprocessor and and exztrqapolatoirs\nfollowing the API.\n\n"
      ], 
      "cell_type": "markdown", 
      "metadata": {}
    }, 
    {
      "source": [
        "You start by importing the necessary modules.\n"
      ], 
      "cell_type": "markdown", 
      "metadata": {}
    }, 
    {
      "execution_count": null, 
      "cell_type": "code", 
      "source": [
        "# General imports\nimport sunpy.map as mp\nimport numpy as np\nfrom mayavi import mlab # Necessary for visulisation\n\n# Module imports\nfrom solarbextrapolation.preprocessors import Preprocessors\nfrom solarbextrapolation.extrapolators import Extrapolators\nfrom solarbextrapolation.map3dclasses import Map3D\nfrom solarbextrapolation.visualisation_functions import visualise"
      ], 
      "outputs": [], 
      "metadata": {
        "collapsed": false
      }
    }, 
    {
      "source": [
        "Preprocessor\nDefining a trivial preprocessor that returns a zeros map for any given input\nmap.\n"
      ], 
      "cell_type": "markdown", 
      "metadata": {}
    }, 
    {
      "execution_count": null, 
      "cell_type": "code", 
      "source": [
        "class PreZeros(Preprocessors):\n    def __init__(self, map_magnetogram):\n        super(PreZeros, self).__init__(map_magnetogram)\n\n    def _preprocessor(self):\n        # Adding in custom parameters to the meta\n        self.meta['preprocessor_routine'] = 'Zeros Preprocessor'\n\n        # Creating the trivial zeros map of the same shape as the input map\n        map_output = mp.Map((np.zeros(self.map_input.data.shape),\n                                    self.meta))\n\n        # Outputting the map.\n        return map_output"
      ], 
      "outputs": [], 
      "metadata": {
        "collapsed": false
      }
    }, 
    {
      "source": [
        " Make an input map that we will run the preprocessor on.\n This will be changed to using the sample HMI image.\naMap2D = mp.Map('C://git//solarextrapolation//solarextrapolation//data//example_data_(100x100)__01_hmi.fits')\n"
      ], 
      "cell_type": "markdown", 
      "metadata": {}
    }, 
    {
      "execution_count": null, 
      "cell_type": "code", 
      "source": [
        "from solarbextrapolation.example_data_generator import generate_example_data, dummyDataToMap\nimport astropy.units as u\naMap2D = arr_Data = dummyDataToMap(generate_example_data([ 20, 20 ],u.Quantity([ -10.0, 10.0 ] * u.arcsec),u.Quantity([ -10.0, 10.0 ] * u.arcsec)), u.Quantity([ -10.0, 10.0 ] * u.arcsec), u.Quantity([ -10.0, 10.0 ] * u.arcsec))"
      ], 
      "outputs": [], 
      "metadata": {
        "collapsed": false
      }
    }, 
    {
      "source": [
        "Instansiate the preprocessor and process the input map.\n"
      ], 
      "cell_type": "markdown", 
      "metadata": {}
    }, 
    {
      "execution_count": null, 
      "cell_type": "code", 
      "source": [
        "aPrePro = PreZeros(aMap2D.submap([0, 10]*u.arcsec, [0, 10]*u.arcsec))\naPreProMap = aPrePro.preprocess()"
      ], 
      "outputs": [], 
      "metadata": {
        "collapsed": false
      }
    }, 
    {
      "source": [
        "You can plot the preprocessed map using peek.\n"
      ], 
      "cell_type": "markdown", 
      "metadata": {}
    }, 
    {
      "execution_count": null, 
      "cell_type": "code", 
      "source": [
        "aPreProMap.peek()"
      ], 
      "outputs": [], 
      "metadata": {
        "collapsed": false
      }
    }, 
    {
      "source": [
        "You can also access the metadata of the preprocessor like any map:\n"
      ], 
      "cell_type": "markdown", 
      "metadata": {}
    }, 
    {
      "execution_count": null, 
      "cell_type": "code", 
      "source": [
        "print \"preprocessor_routine: \" + str(aPreProMap.meta['preprocessor_routine'])\nprint \"preprocessor_duration: \" + str(aPreProMap.meta['preprocessor_duration'])"
      ], 
      "outputs": [], 
      "metadata": {
        "collapsed": false
      }
    }, 
    {
      "source": [
        "Extrapolator\nDefining a trivial extrapolator that returns a volume of one vectors.\n"
      ], 
      "cell_type": "markdown", 
      "metadata": {}
    }, 
    {
      "execution_count": null, 
      "cell_type": "code", 
      "source": [
        "class ExtOnes(Extrapolators):\n    def __init__(self, map_magnetogram, **kwargs):\n        super(ExtOnes, self).__init__(map_magnetogram, **kwargs)\n\n    def _extrapolation(self):\n        # Adding in custom parameters to the meta\n        self.meta['extrapolator_routine'] = 'Ones Extrapolator'\n\n        #arr_4d = np.ones([self.map_boundary_data.data.shape[0], self.map_boundary_data.data.shape[0], self.z, 3])\n        arr_4d = np.ones(self.shape.tolist() + [3])\n        return Map3D(arr_4d, self.meta)"
      ], 
      "outputs": [], 
      "metadata": {
        "collapsed": false
      }
    }, 
    {
      "source": [
        "Instansiate the preprocessor and extrapolate.\n"
      ], 
      "cell_type": "markdown", 
      "metadata": {}
    }, 
    {
      "execution_count": null, 
      "cell_type": "code", 
      "source": [
        "aExt = ExtOnes(aPreProMap, zshape=10)\naMap3D = aExt.extrapolate()"
      ], 
      "outputs": [], 
      "metadata": {
        "collapsed": false
      }
    }, 
    {
      "source": [
        "You can visulise the field using MayaVi.\n"
      ], 
      "cell_type": "markdown", 
      "metadata": {}
    }, 
    {
      "execution_count": null, 
      "cell_type": "code", 
      "source": [
        "fig = visualise(aMap3D,\n                boundary=aPreProMap,\n                show_boundary_axes=False,\n                show_volume_axes=False,\n                debug=False)\nmlab.show()\n\n\"\"\"\n\n# aPreProData = aMap2D.submap([0,10], [0,10])\n\n# Some checks:\n#aPreProData.data # Should be a 2D zeros array.\n#aPreProData.meta\n#aPreProData.meta['preprocessor_routine']\n#aPreProData.meta['preprocessor_start_time']"
      ], 
      "outputs": [], 
      "metadata": {
        "collapsed": false
      }
    }, 
    {
      "source": [
        "Testing an extrapolator\n"
      ], 
      "cell_type": "markdown", 
      "metadata": {}
    }, 
    {
      "execution_count": null, 
      "cell_type": "code", 
      "source": [
        "# Define trivial extrapolator\nclass ExtZeros(Extrapolators):\n    def __init__(self, map_magnetogram, **kwargs):\n        super(ExtZeros, self).__init__(map_magnetogram, **kwargs)\n\n    def _extrapolation(self):\n        # Adding in custom parameters to the meta\n        self.meta['extrapolator_routine'] = 'Zeros Extrapolator'\n\n        arr_4d = np.zeros([self.map_boundary_data.data.shape[0],\n                           self.map_boundary_data.data.shape[0], self.z, 3])\n        return Map3D((arr_4d, self.meta))\n\n\naExt = ExtZeros(\n    aPreProData,\n    filepath='C://Users/Alex/solarextrapolation/solarextrapolation/3Dmap.m3d')\naMap3D = aExt.extrapolate()\n\n# Some checks:\n#aMap3D.data # Should be a 4D zeros array.\n#aMap3D.meta\n#aMap3D.meta['extrapolator_routine']\n#aMap3D.meta['extrapolator_start_time']\n\n# Testing a Map3DCube\n\naMapCube = Map3DCube(aMap3D, aMap3D)\naMapCube[0]\naMapCube[0].data\naMapCube[0].meta\naMapCube[1].data\naMapCube[1].meta\n\"\"\""
      ], 
      "outputs": [], 
      "metadata": {
        "collapsed": false
      }
    }
  ], 
  "metadata": {
    "kernelspec": {
      "display_name": "Python 2", 
      "name": "python2", 
      "language": "python"
    }, 
    "language_info": {
      "mimetype": "text/x-python", 
      "nbconvert_exporter": "python", 
      "name": "python", 
      "file_extension": ".py", 
      "version": "2.7.11", 
      "pygments_lexer": "ipython2", 
      "codemirror_mode": {
        "version": 2, 
        "name": "ipython"
      }
    }
  }
}