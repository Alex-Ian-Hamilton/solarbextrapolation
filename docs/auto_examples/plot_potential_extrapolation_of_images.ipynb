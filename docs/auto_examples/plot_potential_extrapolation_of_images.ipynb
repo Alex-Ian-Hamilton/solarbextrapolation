{
  "nbformat_minor": 0, 
  "nbformat": 4, 
  "cells": [
    {
      "execution_count": null, 
      "cell_type": "code", 
      "source": [
        "%matplotlib inline"
      ], 
      "outputs": [], 
      "metadata": {
        "collapsed": false
      }
    }, 
    {
      "source": [
        "\n# Potential Extrapolation from an Image\n\n\nThis example is to demonstrate using the potential extrapolator on an image.\nIt was built for a bit of fun.\n"
      ], 
      "cell_type": "markdown", 
      "metadata": {}
    }, 
    {
      "execution_count": null, 
      "cell_type": "code", 
      "source": [
        "from __future__ import print_function\n\n# General imports\nfrom astropy import units as u\nfrom scipy import misc\nfrom mayavi import mlab\nimport numpy as np\n\n# Module imports\nfrom solarbextrapolation.potential_field_extrapolator import PotentialExtrapolator\nfrom solarbextrapolation.example_data_generator import generate_example_data, dummyDataToMap\nfrom solarbextrapolation.visualisation_functions import visualise\n\n# The input parameters:\narr_grid_shape = [ 50, 50, 50 ]         # [ y-size, x-size ]\nxrange = u.Quantity([ -10.0, 10.0 ] * u.arcsec)\nyrange = u.Quantity([ -10.0, 10.0 ] * u.arcsec)\nzrange = u.Quantity([ 0,     20.0 ] * u.arcsec)\n\n# Manual Pole Details\narrA0 = [ u.Quantity([ 25, 25 ] * u.percent), 10.0 * u.percent,  0.2 * u.T ]\narrA1 = [ u.Quantity([ 75, 75 ] * u.percent), 10.0 * u.percent, -0.2 * u.T ]\n\n# Generate the data and make into a map\narr_data = generate_example_data(arr_grid_shape[0:2], xrange, yrange, arrA0, arrA1)\nprint('\\n' + str(type(arr_data.dtype)))\nprint(str(arr_data.shape))\nprint(str(arr_data.dtype) + '\\n')\narr_image = (misc.imread('sunpy_powered_50x50.png')[...,:3] - 127.5) / 1270.0\narr_data = np.zeros(arr_image.shape[:2])\nfor i in range(0,arr_data.shape[0]):     # Row/Y\n    for j in range(0,arr_data.shape[1]): # Column/X\n        arr_data[i,j] = ((arr_image[i,j,0] + arr_image[i,j,1] + arr_image[i,j,2]) / 3.0)\nprint('\\n' + str(type(arr_data.dtype)))\nprint(str(arr_data.shape))\nprint(str(arr_data.dtype) + '\\n')\n\nmap_boundary = dummyDataToMap(arr_data, xrange, yrange)\n\n# Use potential extrapolator to generate field\naPotExt = PotentialExtrapolator(map_boundary, zshape=arr_grid_shape[2], zrange=zrange)\naMap3D = aPotExt.extrapolate(enable_numba=True)\nprint('extrapolator_duration:' + str(aMap3D.meta['extrapolator_duration']))\n\n\n# Visualise\nvisualise(aMap3D,\n          boundary=map_boundary,\n          volume_units=[1.0*u.arcsec, 1.0*u.arcsec, 1.0*u.Mm],\n          show_boundary_axes=False,\n          boundary_units=[1.0*u.arcsec, 1.0*u.arcsec],\n          show_volume_axes=True,\n          debug=False)\nmlab.show()"
      ], 
      "outputs": [], 
      "metadata": {
        "collapsed": false
      }
    }
  ], 
  "metadata": {
    "kernelspec": {
      "display_name": "Python 2", 
      "name": "python2", 
      "language": "python"
    }, 
    "language_info": {
      "mimetype": "text/x-python", 
      "nbconvert_exporter": "python", 
      "name": "python", 
      "file_extension": ".py", 
      "version": "2.7.11", 
      "pygments_lexer": "ipython2", 
      "codemirror_mode": {
        "version": 2, 
        "name": "ipython"
      }
    }
  }
}